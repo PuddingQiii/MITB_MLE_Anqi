{
 "cells": [
  {
   "cell_type": "code",
   "execution_count": 1,
   "id": "a864b89a-ecde-41a7-8b1f-559ee5937904",
   "metadata": {},
   "outputs": [
    {
     "name": "stderr",
     "output_type": "stream",
     "text": [
      "Setting default log level to \"WARN\".\n",
      "To adjust logging level use sc.setLogLevel(newLevel). For SparkR, use setLogLevel(newLevel).\n",
      "25/10/07 09:54:36 WARN NativeCodeLoader: Unable to load native-hadoop library for your platform... using builtin-java classes where applicable\n"
     ]
    },
    {
     "name": "stdout",
     "output_type": "stream",
     "text": [
      "root\n",
      " |-- Customer_ID: string (nullable = true)\n",
      " |-- snapshot_date: date (nullable = true)\n",
      " |-- label: integer (nullable = true)\n",
      " |-- label_def: string (nullable = true)\n",
      " |-- fe_1: double (nullable = true)\n",
      " |-- fe_2: double (nullable = true)\n",
      " |-- fe_3: double (nullable = true)\n",
      " |-- fe_4: double (nullable = true)\n",
      " |-- fe_5: double (nullable = true)\n",
      " |-- fe_6: double (nullable = true)\n",
      " |-- fe_7: double (nullable = true)\n",
      " |-- fe_8: double (nullable = true)\n",
      " |-- fe_9: double (nullable = true)\n",
      " |-- fe_10: double (nullable = true)\n",
      " |-- fe_11: double (nullable = true)\n",
      " |-- fe_12: double (nullable = true)\n",
      " |-- fe_13: double (nullable = true)\n",
      " |-- fe_14: double (nullable = true)\n",
      " |-- fe_15: double (nullable = true)\n",
      " |-- fe_16: double (nullable = true)\n",
      " |-- fe_17: double (nullable = true)\n",
      " |-- fe_18: double (nullable = true)\n",
      " |-- fe_19: double (nullable = true)\n",
      " |-- fe_20: double (nullable = true)\n",
      " |-- click_sum: double (nullable = true)\n",
      " |-- Name: string (nullable = true)\n",
      " |-- Age: double (nullable = true)\n",
      " |-- SSN: string (nullable = true)\n",
      " |-- Occupation: string (nullable = true)\n",
      " |-- Annual_Income: double (nullable = true)\n",
      " |-- Monthly_Inhand_Salary: double (nullable = true)\n",
      " |-- Num_Bank_Accounts: integer (nullable = true)\n",
      " |-- Num_Credit_Card: integer (nullable = true)\n",
      " |-- Interest_Rate: double (nullable = true)\n",
      " |-- Num_of_Loan: string (nullable = true)\n",
      " |-- Type_of_Loan: string (nullable = true)\n",
      " |-- Delay_from_due_date: integer (nullable = true)\n",
      " |-- Num_of_Delayed_Payment: string (nullable = true)\n",
      " |-- Changed_Credit_Limit: double (nullable = true)\n",
      " |-- Num_Credit_Inquiries: double (nullable = true)\n",
      " |-- Credit_Mix: string (nullable = true)\n",
      " |-- Outstanding_Debt: string (nullable = true)\n",
      " |-- Credit_Utilization_Ratio: double (nullable = true)\n",
      " |-- Credit_History_Age: string (nullable = true)\n",
      " |-- Payment_of_Min_Amount: double (nullable = true)\n",
      " |-- Total_EMI_per_month: double (nullable = true)\n",
      " |-- Amount_invested_monthly: string (nullable = true)\n",
      " |-- Payment_Behaviour: string (nullable = true)\n",
      " |-- Monthly_Balance: double (nullable = true)\n",
      " |-- income_per_click: double (nullable = true)\n",
      "\n"
     ]
    },
    {
     "name": "stderr",
     "output_type": "stream",
     "text": [
      "25/10/07 09:54:39 WARN SparkStringUtils: Truncated the string representation of a plan since it was too large. This behavior can be adjusted by setting 'spark.sql.debug.maxToStringFields'.\n"
     ]
    },
    {
     "name": "stdout",
     "output_type": "stream",
     "text": [
      "+-----------+-------------+-----+----------+-----+-----+-----+------+-----+-----+-----+-----+-----+-----+-----+-----+-----+-----+------+-----+-----+-----+-----+-----+---------+----+----+----+----------+-------------+---------------------+-----------------+---------------+-------------+-----------+------------+-------------------+----------------------+--------------------+--------------------+----------+----------------+------------------------+------------------+---------------------+-------------------+-----------------------+-----------------+---------------+----------------+\n",
      "|Customer_ID|snapshot_date|label| label_def| fe_1| fe_2| fe_3|  fe_4| fe_5| fe_6| fe_7| fe_8| fe_9|fe_10|fe_11|fe_12|fe_13|fe_14| fe_15|fe_16|fe_17|fe_18|fe_19|fe_20|click_sum|Name| Age| SSN|Occupation|Annual_Income|Monthly_Inhand_Salary|Num_Bank_Accounts|Num_Credit_Card|Interest_Rate|Num_of_Loan|Type_of_Loan|Delay_from_due_date|Num_of_Delayed_Payment|Changed_Credit_Limit|Num_Credit_Inquiries|Credit_Mix|Outstanding_Debt|Credit_Utilization_Ratio|Credit_History_Age|Payment_of_Min_Amount|Total_EMI_per_month|Amount_invested_monthly|Payment_Behaviour|Monthly_Balance|income_per_click|\n",
      "+-----------+-------------+-----+----------+-----+-----+-----+------+-----+-----+-----+-----+-----+-----+-----+-----+-----+-----+------+-----+-----+-----+-----+-----+---------+----+----+----+----------+-------------+---------------------+-----------------+---------------+-------------+-----------+------------+-------------------+----------------------+--------------------+--------------------+----------+----------------+------------------------+------------------+---------------------+-------------------+-----------------------+-----------------+---------------+----------------+\n",
      "| CUS_0x1044|   2023-12-01|    0|30dpd_6mob|  7.0|254.0| 85.0| 191.0|104.0|-41.0| 82.0|134.0| 27.0| 63.0|159.0|142.0| 96.0|266.0|-115.0|156.0|-28.0|407.0| 64.0|-74.0|   1979.0|NULL|NULL|NULL|      NULL|         NULL|                 NULL|             NULL|           NULL|         NULL|       NULL|        NULL|               NULL|                  NULL|                NULL|                NULL|      NULL|            NULL|                    NULL|              NULL|                 NULL|               NULL|                   NULL|             NULL|           NULL|            NULL|\n",
      "| CUS_0x104e|   2023-12-01|    0|30dpd_6mob| 78.0|209.0|-25.0| 108.0|120.0|112.0|-34.0|203.0|263.0| 44.0| 57.0|213.0|-25.0|209.0|  -7.0|113.0|199.0| 88.0| 55.0| 68.0|   2048.0|NULL|NULL|NULL|      NULL|         NULL|                 NULL|             NULL|           NULL|         NULL|       NULL|        NULL|               NULL|                  NULL|                NULL|                NULL|      NULL|            NULL|                    NULL|              NULL|                 NULL|               NULL|                   NULL|             NULL|           NULL|            NULL|\n",
      "| CUS_0x105c|   2023-12-01|    0|30dpd_6mob| 52.0|237.0| 71.0|  70.0| 94.0|274.0|130.0|-37.0| 85.0|169.0|238.0|-72.0|187.0| 66.0| 167.0|178.0| 54.0| 52.0|  0.0|-18.0|   1997.0|NULL|NULL|NULL|      NULL|         NULL|                 NULL|             NULL|           NULL|         NULL|       NULL|        NULL|               NULL|                  NULL|                NULL|                NULL|      NULL|            NULL|                    NULL|              NULL|                 NULL|               NULL|                   NULL|             NULL|           NULL|            NULL|\n",
      "| CUS_0x10ee|   2023-12-01|    1|30dpd_6mob|127.0| 98.0|164.0|-125.0|120.0| 11.0|-80.0|220.0|107.0|140.0|-73.0| 46.0|172.0|220.0|  95.0|109.0|-70.0| 16.0| 93.0|223.0|   1613.0|NULL|NULL|NULL|      NULL|         NULL|                 NULL|             NULL|           NULL|         NULL|       NULL|        NULL|               NULL|                  NULL|                NULL|                NULL|      NULL|            NULL|                    NULL|              NULL|                 NULL|               NULL|                   NULL|             NULL|           NULL|            NULL|\n",
      "| CUS_0x1136|   2023-12-01|    1|30dpd_6mob|144.0| 90.0|251.0|  83.0|203.0|171.0|210.0| 89.0| 36.0|175.0| 52.0|293.0|182.0|165.0| 138.0|148.0|-10.0|264.0| 23.0| 96.0|   2803.0|NULL|NULL|NULL|      NULL|         NULL|                 NULL|             NULL|           NULL|         NULL|       NULL|        NULL|               NULL|                  NULL|                NULL|                NULL|      NULL|            NULL|                    NULL|              NULL|                 NULL|               NULL|                   NULL|             NULL|           NULL|            NULL|\n",
      "+-----------+-------------+-----+----------+-----+-----+-----+------+-----+-----+-----+-----+-----+-----+-----+-----+-----+-----+------+-----+-----+-----+-----+-----+---------+----+----+----+----------+-------------+---------------------+-----------------+---------------+-------------+-----------+------------+-------------------+----------------------+--------------------+--------------------+----------+----------------+------------------------+------------------+---------------------+-------------------+-----------------------+-----------------+---------------+----------------+\n",
      "only showing top 5 rows\n",
      "\n"
     ]
    }
   ],
   "source": [
    "from pyspark.sql import SparkSession\n",
    "spark = SparkSession.builder.getOrCreate()\n",
    "\n",
    "df = spark.read.parquet(\"datamart/gold/feature_store/gold_feature_store_2023_12_01.parquet\")\n",
    "df.printSchema()\n",
    "df.show(5)\n"
   ]
  },
  {
   "cell_type": "code",
   "execution_count": null,
   "id": "26464793-69b8-44c6-a2d8-e9b1228ac6ac",
   "metadata": {},
   "outputs": [],
   "source": []
  }
 ],
 "metadata": {
  "kernelspec": {
   "display_name": "Python 3 (ipykernel)",
   "language": "python",
   "name": "python3"
  },
  "language_info": {
   "codemirror_mode": {
    "name": "ipython",
    "version": 3
   },
   "file_extension": ".py",
   "mimetype": "text/x-python",
   "name": "python",
   "nbconvert_exporter": "python",
   "pygments_lexer": "ipython3",
   "version": "3.11.13"
  }
 },
 "nbformat": 4,
 "nbformat_minor": 5
}
